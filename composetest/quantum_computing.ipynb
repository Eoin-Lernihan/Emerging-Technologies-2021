{
 "cells": [
  {
   "cell_type": "markdown",
   "metadata": {
    "tags": []
   },
   "source": [
    "<h1>Quantum Computing and Classical Computing</h1>\n",
    "\n",
    "<h2>Quantum Computing</h2>\n",
    "\n",
    "    1.Stores information in Qubits which allows it to store 0 and 1 allowing for more complex storage. \n",
    "     [What is a qubit](https://www.quantum-inspire.com/kbase/what-is-a-qubit).\n",
    "    \n",
    "    2.Quantum returns a huge amount of of possible result allowing for better, best and other possible solution\n",
    "    \n",
    "    3.The limitless size of it computing power allows for more accuarte results\n",
    "    \n",
    "    4.Quantum computing shines for task such as data analysis and simulation \n",
    "\n",
    "<h2>Classical Computing</h2>\n",
    " \n",
    "    1.Classical Store information in transistors which allows it to store 0 or 1 only\n",
    "   \n",
    "    2.Classical computing usally returns 1 result which means lineting possible result\n",
    "    \n",
    "    3.The size on which it can compute is limeted leading to it results to be limited\n",
    "    \n",
    "    4.Classical computing it better suited for most everyday computting task as most stuff don't need complex system to be effective at a task\n",
    "    \n",
    " <br>\n",
    " <br>\n",
    " <h2>    Below are some quantum based code which perform better in quantum than in classical computing including a graphs </h2>"
   ]
  },
  {
   "cell_type": "code",
   "execution_count": 1,
   "metadata": {},
   "outputs": [],
   "source": [
    "#Quantum\n",
    "import qiskit\n",
    "import qiskit.providers.aer as aer"
   ]
  },
  {
   "cell_type": "markdown",
   "metadata": {},
   "source": [
    "<br>\n",
    "$\\large a+b i \\qquad \\qquad a, b \\in \\mathbb{R} \\qquad \\qquad 1^2= -1 \\qquad \\qquad \\mathrm{e.g.} -2.0 + 5.0 i$"
   ]
  },
  {
   "cell_type": "code",
   "execution_count": 2,
   "metadata": {},
   "outputs": [],
   "source": [
    "#Plotting.\n",
    "import matplotlib.pyplot as plt\n",
    "#Numerical\n",
    "import numpy as np\n",
    "#random numbers\n",
    "import random\n",
    "plt.style.use('ggplot')"
   ]
  },
  {
   "cell_type": "code",
   "execution_count": 3,
   "metadata": {},
   "outputs": [],
   "source": [
    "plt.rcParams['figure.figsize'] =(20,10)\n",
    "plt.style.use('seaborn-whitegrid')"
   ]
  },
  {
   "cell_type": "code",
   "execution_count": 4,
   "metadata": {},
   "outputs": [
    {
     "data": {
      "text/plain": [
       "(-1+0j)"
      ]
     },
     "execution_count": 4,
     "metadata": {},
     "output_type": "execute_result"
    }
   ],
   "source": [
    "1.0j * 1.0j"
   ]
  },
  {
   "cell_type": "code",
   "execution_count": 5,
   "metadata": {},
   "outputs": [
    {
     "data": {
      "text/plain": [
       "(-2+5j)"
      ]
     },
     "execution_count": 5,
     "metadata": {},
     "output_type": "execute_result"
    }
   ],
   "source": [
    "x = -2.0 + 5.0j\n",
    "x"
   ]
  },
  {
   "cell_type": "code",
   "execution_count": 6,
   "metadata": {},
   "outputs": [
    {
     "data": {
      "text/plain": [
       "(-21-20j)"
      ]
     },
     "execution_count": 6,
     "metadata": {},
     "output_type": "execute_result"
    }
   ],
   "source": [
    "x**2"
   ]
  },
  {
   "cell_type": "code",
   "execution_count": 7,
   "metadata": {},
   "outputs": [
    {
     "data": {
      "text/plain": [
       "(3+1.5j)"
      ]
     },
     "execution_count": 7,
     "metadata": {},
     "output_type": "execute_result"
    }
   ],
   "source": [
    "y=3.0+1.5j\n",
    "y"
   ]
  },
  {
   "cell_type": "code",
   "execution_count": 8,
   "metadata": {},
   "outputs": [
    {
     "data": {
      "text/plain": [
       "(1+6.5j)"
      ]
     },
     "execution_count": 8,
     "metadata": {},
     "output_type": "execute_result"
    }
   ],
   "source": [
    "x+y"
   ]
  },
  {
   "cell_type": "code",
   "execution_count": 9,
   "metadata": {},
   "outputs": [
    {
     "data": {
      "text/plain": [
       "(-13.5+12j)"
      ]
     },
     "execution_count": 9,
     "metadata": {},
     "output_type": "execute_result"
    }
   ],
   "source": [
    "x*y"
   ]
  },
  {
   "cell_type": "code",
   "execution_count": 10,
   "metadata": {},
   "outputs": [],
   "source": [
    "x = [-2.0, 5.0]\n",
    "y = [3.0, 1.5]"
   ]
  },
  {
   "cell_type": "code",
   "execution_count": 11,
   "metadata": {},
   "outputs": [
    {
     "data": {
      "text/plain": [
       "[-2.0, 5.0]"
      ]
     },
     "execution_count": 11,
     "metadata": {},
     "output_type": "execute_result"
    }
   ],
   "source": [
    "x"
   ]
  },
  {
   "cell_type": "code",
   "execution_count": 12,
   "metadata": {},
   "outputs": [
    {
     "data": {
      "text/plain": [
       "[3.0, 1.5]"
      ]
     },
     "execution_count": 12,
     "metadata": {},
     "output_type": "execute_result"
    }
   ],
   "source": [
    "y"
   ]
  },
  {
   "cell_type": "code",
   "execution_count": 13,
   "metadata": {},
   "outputs": [],
   "source": [
    "def add(u, v):\n",
    "        return [u[0] + v[0], u[1] + v[1]]"
   ]
  },
  {
   "cell_type": "code",
   "execution_count": 14,
   "metadata": {},
   "outputs": [
    {
     "data": {
      "text/plain": [
       "[1.0, 6.5]"
      ]
     },
     "execution_count": 14,
     "metadata": {},
     "output_type": "execute_result"
    }
   ],
   "source": [
    "add(x, y)"
   ]
  },
  {
   "cell_type": "code",
   "execution_count": 15,
   "metadata": {},
   "outputs": [],
   "source": [
    "def mult(u, v):\n",
    "    return [u[0] * v[0], u[1] * v[1]]"
   ]
  },
  {
   "cell_type": "code",
   "execution_count": 16,
   "metadata": {},
   "outputs": [
    {
     "data": {
      "text/plain": [
       "[-6.0, 7.5]"
      ]
     },
     "execution_count": 16,
     "metadata": {},
     "output_type": "execute_result"
    }
   ],
   "source": [
    "mult(x, y)"
   ]
  },
  {
   "cell_type": "code",
   "execution_count": 17,
   "metadata": {},
   "outputs": [],
   "source": [
    "def proMult(u, v):\n",
    "    a, b = u\n",
    "    c, d = v\n",
    "    return [(a*c) - (b*d), (b*c) + (a*d)]"
   ]
  },
  {
   "cell_type": "code",
   "execution_count": 18,
   "metadata": {},
   "outputs": [
    {
     "data": {
      "text/plain": [
       "[-13.5, 12.0]"
      ]
     },
     "execution_count": 18,
     "metadata": {},
     "output_type": "execute_result"
    }
   ],
   "source": [
    "proMult(x, y)"
   ]
  },
  {
   "cell_type": "code",
   "execution_count": 19,
   "metadata": {},
   "outputs": [],
   "source": [
    "# A function that returns a function.\n",
    "class quadratic:\n",
    "    def __init__(self, a, b, c):\n",
    "        self.a = a\n",
    "        self.b = b\n",
    "        self.c = c\n",
    "        \n",
    "    def __call__(self, x):\n",
    "        return self.a + x**2 + self.b * x + self.c\n"
   ]
  },
  {
   "cell_type": "code",
   "execution_count": 20,
   "metadata": {},
   "outputs": [],
   "source": [
    "p = quadratic(a=1.0, b=-5.0, c=6.0)"
   ]
  },
  {
   "cell_type": "code",
   "execution_count": 21,
   "metadata": {},
   "outputs": [
    {
     "data": {
      "text/plain": [
       "3.0"
      ]
     },
     "execution_count": 21,
     "metadata": {},
     "output_type": "execute_result"
    }
   ],
   "source": [
    "p(1.0)"
   ]
  },
  {
   "cell_type": "code",
   "execution_count": 22,
   "metadata": {},
   "outputs": [],
   "source": [
    "x = np.linspace(0.0, 5.0, 1000)"
   ]
  },
  {
   "cell_type": "code",
   "execution_count": 23,
   "metadata": {},
   "outputs": [
    {
     "data": {
      "text/plain": [
       "<matplotlib.lines.Line2D at 0x7f286e2db760>"
      ]
     },
     "execution_count": 23,
     "metadata": {},
     "output_type": "execute_result"
    },
    {
     "data": {
      "image/png": "[encoded data removed]",
      "text/plain": [
       "<Figure size 1440x720 with 1 Axes>"
      ]
     },
     "metadata": {},
     "output_type": "display_data"
    }
   ],
   "source": [
    "fig, ax = plt.subplots()\n",
    "ax.plot(x, p(x))\n",
    "ax.axhline(y=0, color='k')\n",
    "ax.axvline(x=0, color='k')"
   ]
  },
  {
   "cell_type": "code",
   "execution_count": 24,
   "metadata": {},
   "outputs": [
    {
     "data": {
      "text/plain": [
       "<matplotlib.lines.Line2D at 0x7f286d90acd0>"
      ]
     },
     "execution_count": 24,
     "metadata": {},
     "output_type": "execute_result"
    },
    {
     "data": {
      "image/png": "[encoded data removed]",
      "text/plain": [
       "<Figure size 1440x720 with 1 Axes>"
      ]
     },
     "metadata": {},
     "output_type": "display_data"
    }
   ],
   "source": [
    "p = quadratic(a=1.0, b=5.0, c=6.0)\n",
    "x = np.linspace(0.0, -6.0, 100)\n",
    "fig, ax = plt.subplots()\n",
    "ax.plot(x, p(x))\n",
    "ax.axhline(y=0, color='k')\n",
    "ax.axvline(x=0, color='k')"
   ]
  },
  {
   "cell_type": "code",
   "execution_count": 25,
   "metadata": {},
   "outputs": [],
   "source": [
    "plt.style.use('ggplot')"
   ]
  },
  {
   "cell_type": "markdown",
   "metadata": {},
   "source": []
  },
  {
   "cell_type": "markdown",
   "metadata": {},
   "source": []
  },
  {
   "cell_type": "markdown",
   "metadata": {},
   "source": [
    "<h1>Deutsch's Algorithm </h1>\n",
    "Deutsch's Algorithm or Deutsch-Jozsa Algorithm is an algorithm that was created in order prove that that quantum algotithms are faster the any standard algorithm for computational tool. In shows that given the following problem quantum perfoms better.\n",
    "<h4>The problem\n",
    "    <br>\n",
    "    f({x<sub>0</sub>, x<sub>1</sub>, x<sub>2</sub>, x<sub>n</sub>, ...}) -> 0 or 1, where x<sub>n</sub> is 0 or 1\n",
    "</h4>\n",
    "<br>\n",
    "The function is consider constant if it returns either all 0's or all 1's. balaned if it returns exactly half of 0 or 1.s\n",
    "\n",
    "\n",
    "<h5>Classical</h5>\n",
    "In order to determine it is balanced  for 2<sup>n</sup> inputs classical needs to perfom 2<sup>n-1</sup>+1 trial inputs in order to check for worst case situation. \n",
    "<h5>Quantuam</h5>\n",
    "A quantum computer, we can solve this problem with 100% confidence after only one call to the function. \n",
    "Conclusion    "
   ]
  },
  {
   "cell_type": "code",
   "execution_count": 26,
   "metadata": {},
   "outputs": [],
   "source": [
    "#Allowing a random constant/function to be added into circuit\n",
    "def random_f():\n",
    "    f_number = random.randint(1, 4)\n",
    "    circuit = qiskit.QuantumCircuit(2,1)\n",
    "    #constant 0 function\n",
    "    if f_number == 1:\n",
    "        circuit.i(1)\n",
    "    #constant 1 function\n",
    "    elif f_number == 2:\n",
    "        circuit.x(1)\n",
    "    #balanced idenity constant\n",
    "    elif f_number == 3:\n",
    "        circuit.cnot(0, 1)\n",
    "    #balanced not constant\n",
    "    elif f_number == 4:\n",
    "        circuit.cnot(0, 1)\n",
    "        circuit.x(1)\n",
    "    else:\n",
    "        print(\"erroe\")\n",
    "    return circuit\n"
   ]
  },
  {
   "cell_type": "markdown",
   "metadata": {},
   "source": [
    "Create first part of circuit"
   ]
  },
  {
   "cell_type": "code",
   "execution_count": 27,
   "metadata": {},
   "outputs": [
    {
     "data": {
      "image/png": "[encoded data removed]",
      "text/plain": [
       "<Figure size 480.694x368.424 with 1 Axes>"
      ]
     },
     "execution_count": 27,
     "metadata": {},
     "output_type": "execute_result"
    }
   ],
   "source": [
    "#Create the first part in the circuit\n",
    "circuit = qiskit.QuantumCircuit(2,1)\n",
    "circuit.initialize([1, 0],0)\n",
    "circuit.initialize([0, 1],1)\n",
    "circuit.h((0, 1))\n",
    "circuit.barrier()\n",
    "circuit.draw(output='mpl', scale=1.8)"
   ]
  },
  {
   "cell_type": "markdown",
   "metadata": {},
   "source": [
    "Create Second part of circuit"
   ]
  },
  {
   "cell_type": "code",
   "execution_count": 28,
   "metadata": {},
   "outputs": [
    {
     "data": {
      "image/png": "[encoded data removed]",
      "text/plain": [
       "<Figure size 697.414x368.424 with 1 Axes>"
      ]
     },
     "execution_count": 28,
     "metadata": {},
     "output_type": "execute_result"
    }
   ],
   "source": [
    "#Calls the random and adds it to the circuit\n",
    "circuit.compose(random_f(), inplace=True)\n",
    "circuit.barrier()\n",
    "circuit.draw(output='mpl', scale=1.8)"
   ]
  },
  {
   "cell_type": "markdown",
   "metadata": {},
   "source": [
    "Create third part of circuit"
   ]
  },
  {
   "cell_type": "code",
   "execution_count": 29,
   "metadata": {},
   "outputs": [
    {
     "data": {
      "image/png": "[encoded data removed]",
      "text/plain": [
       "<Figure size 914.134x368.424 with 1 Axes>"
      ]
     },
     "execution_count": 29,
     "metadata": {},
     "output_type": "execute_result"
    }
   ],
   "source": [
    "#add a final part and end to the circuit\n",
    "circuit.h(0)\n",
    "circuit.measure(0,0)\n",
    "circuit.draw(output='mpl', scale=1.8)"
   ]
  },
  {
   "cell_type": "markdown",
   "metadata": {},
   "source": [
    "<h2> Simulate and Decide"
   ]
  },
  {
   "cell_type": "code",
   "execution_count": 33,
   "metadata": {},
   "outputs": [
    {
     "data": {
      "image/png": "[encoded data removed]",
      "text/plain": [
       "<Figure size 72x288 with 1 Axes>"
      ]
     },
     "execution_count": 33,
     "metadata": {},
     "output_type": "execute_result"
    }
   ],
   "source": [
    "#allows the circuit to be ran several times in order to show probability\n",
    "circuit.compose(random_f(), inplace=True)\n",
    "circuit.barrier()\n",
    "circuit.h(0)\n",
    "circuit.measure(0,0)\n",
    "simulator =aer.QasmSimulator()\n",
    "compcircuit = qiskit.transpile(circuit, simulator)\n",
    "job = simulator.run(compcircuit, shorts=1000)\n",
    "results = job.result()\n",
    "counts = results.get_counts()\n",
    "#prints out a visual graph of the circuit show the probabilities of get a 0 or 1, \n",
    "qiskit.visualization.plot_histogram(counts, figsize=(1,4))"
   ]
  },
  {
   "cell_type": "code",
   "execution_count": null,
   "metadata": {},
   "outputs": [],
   "source": []
  },
  {
   "cell_type": "code",
   "execution_count": null,
   "metadata": {},
   "outputs": [],
   "source": []
  },
  {
   "cell_type": "code",
   "execution_count": null,
   "metadata": {},
   "outputs": [],
   "source": []
  },
  {
   "cell_type": "code",
   "execution_count": null,
   "metadata": {},
   "outputs": [],
   "source": []
  }
 ],
 "metadata": {
  "kernelspec": {
   "display_name": "Python 3 (ipykernel)",
   "language": "python",
   "name": "python3"
  },
  "language_info": {
   "codemirror_mode": {
    "name": "ipython",
    "version": 3
   },
   "file_extension": ".py",
   "mimetype": "text/x-python",
   "name": "python",
   "nbconvert_exporter": "python",
   "pygments_lexer": "ipython3",
   "version": "3.9.7"
  }
 },
 "nbformat": 4,
 "nbformat_minor": 4
}
